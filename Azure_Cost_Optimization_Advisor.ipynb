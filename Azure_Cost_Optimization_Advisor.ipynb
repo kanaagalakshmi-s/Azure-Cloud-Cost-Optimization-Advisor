{
 "cells": [
  {
   "cell_type": "markdown",
   "metadata": {},
   "source": [
    "# Azure Cloud Cost Optimization Advisor\n",
    "This notebook analyzes Azure Cost Management data to identify savings opportunities with GenAI-powered recommendations."
   ]
  },
  {
   "cell_type": "code",
   "execution_count": null,
   "metadata": {},
   "outputs": [],
   "source": [
    "# Azure-specific dependencies\n",
    "!pip install pandas matplotlib opencensus"
   ]
  },
  {
   "cell_type": "code",
   "execution_count": null,
   "metadata": {},
   "outputs": [],
   "source": [
    "# Upload Azure billing file\n",
    "from google.colab import files\n",
    "uploaded = files.upload()\n",
    "file_name = next(iter(uploaded))"
   ]
  },
  {
   "cell_type": "code",
   "execution_count": null,
   "metadata": {},
   "outputs": [],
   "source": [
    "# Process Azure billing data\n",
    "import pandas as pd\n",
    "\n",
    "df = pd.read_csv(file_name, low_memory=False)\n",
    "\n",
    "# Azure-specific columns\n",
    "required_columns = ['ServiceName', 'Cost', 'Date']\n",
    "if not all(col in df.columns for col in required_columns):\n",
    "    df.columns = df.columns.str.lower()\n",
    "    df = df.rename(columns={\n",
    "        'servicename': 'ServiceName',\n",
    "        'costinbillingcurrency': 'Cost',\n",
    "        'date': 'Date'\n",
    "    })\n",
    "\n",
    "print(\"Top Azure Services by Cost:\")\n",
    "print(df.groupby('ServiceName')['Cost'].sum().sort_values(ascending=False).head(10))"
   ]
  },
  {
   "cell_type": "code",
   "execution_count": null,
   "metadata": {},
   "outputs": [],
   "source": [
    "# Azure Cost Visualization\n",
    "import matplotlib.pyplot as plt\n",
    "\n",
    "if 'Date' in df.columns:\n",
    "    df['Date'] = pd.to_datetime(df['Date'])\n",
    "    cost_by_day = df.groupby('Date')['Cost'].sum()\n",
    "    \n",
    "    plt.figure(figsize=(12, 6))\n",
    "    cost_by_day.plot(kind='line', marker='o', color='#007FFF')\n",
    "    plt.title('Daily Azure Spend', pad=20)\n",
    "    plt.ylabel('Cost ($)')\n",
    "    plt.xlabel('Date')\n",
    "    plt.grid(True, linestyle='--', alpha=0.7)\n",
    "    plt.xticks(rotation=45)\n",
    "    plt.tight_layout()\n",
    "    plt.show()"
   ]
  },
  {
   "cell_type": "code",
   "execution_count": null,
   "metadata": {},
   "outputs": [],
   "source": [
    "# Azure-specific cost optimization\n",
    "def azure_recommendations(service, cost):\n",
    "    recommendations = {\n",
    "        'Virtual Machines': [\n",
    "            \"Reserved Instances can save up to 72% compared to pay-as-you-go\",\n",
    "            \"Consider Azure Spot VMs for non-critical workloads (up to 90% savings)\",\n",
    "            \"Right-size underutilized VMs using Azure Advisor\"\n",
    "        ],\n",
    "        'Storage': [\n",
    "            \"Move cold data to Cool/Archive storage tiers\",\n",
    "            \"Enable lifecycle management policies\",\n",
    "            \"Review blob storage access tiers\"\n",
    "        ],\n",
    "        'SQL Database': [\n",
    "            \"Consider serverless compute tier for intermittent workloads\",\n",
    "            \"Implement auto-pause during off-hours\",\n",
    "            \"Review DTU/vCore provisioning\"\n",
    "        ],\n",
    "        'App Service': [\n",
    "            \"Switch to Premium v3 plans for better price-performance\",\n",
    "            \"Implement auto-scaling rules\",\n",
    "            \"Review always-on setting for non-production apps\"\n",
    "        ]\n",
    "    }\n",
    "    \n",
    "    return recommendations.get(service, [\"Review service configuration in Azure Cost Management\"])"
   ]
  },
  {
   "cell_type": "code",
   "execution_count": null,
   "metadata": {},
   "outputs": [],
   "source": [
    "# Generate Azure optimization report\n",
    "top_services = df.groupby('ServiceName')['Cost'].sum().nlargest(5)\n",
    "\n",
    "print(\"\\nAzure Cost Optimization Recommendations:\")\n",
    "for service, cost in top_services.items():\n",
    "    print(f\"\\n🔹 {service} (${cost:.2f}):\")\n",
    "    for rec in azure_recommendations(service, cost):\n",
    "        print(f\" • {rec}\")"
   ]
  }
 ],
 "metadata": {
  "kernelspec": {
   "display_name": "Python 3",
   "language": "python",
   "name": "python3"
  },
  "language_info": {
   "codemirror_mode": {
    "name": "ipython",
    "version": 3
   },
   "file_extension": ".py",
   "mimetype": "text/x-python",
   "name": "python",
   "nbconvert_exporter": "python",
   "pygments_lexer": "ipython3",
   "version": "3.10.12"
  }
 },
 "nbformat": 4,
 "nbformat_minor": 0
}
